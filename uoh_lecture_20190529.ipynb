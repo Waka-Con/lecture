{
 "cells": [
  {
   "cell_type": "markdown",
   "metadata": {
    "slideshow": {
     "slide_type": "slide"
    }
   },
   "source": [
    "<H1 style=\"text-align: center;\">良いプログラムを書くために</H1>\n",
    "<br><br><br><br><br><br><br><br>\n",
    "<div style=\"text-align: right;\">\n",
    "株式会社コンテック<br>\n",
    "若松 次男\n",
    "<div>\n",
    "    \n"
   ]
  },
  {
   "cell_type": "markdown",
   "metadata": {
    "slideshow": {
     "slide_type": "slide"
    }
   },
   "source": [
    "# 目次\n",
    "- 目的\n",
    "- 開発環境構築\n",
    "- 良いプログラムとは\n",
    "- バージョン管理\n",
    "- TIPS"
   ]
  },
  {
   "cell_type": "markdown",
   "metadata": {
    "slideshow": {
     "slide_type": "skip"
    }
   },
   "source": [
    "# 目的"
   ]
  },
  {
   "cell_type": "markdown",
   "metadata": {
    "slideshow": {
     "slide_type": "slide"
    }
   },
   "source": [
    "# 卒論を書くには\n",
    "  \n",
    "- IMRaD形式による論文\n",
    "    - Introduction :What are you studying and why?(何を研究したのか？、何故それを研究したのか)\n",
    "    - Methods :What did you do?（具体的には何をしたのか？）\n",
    "    - Results :What did you find?（何がわかったのか?）\n",
    "    - Discussion :What do your findings mean?(あなたが見つけたことは何を意味するのか？)\n",
    "    - Conclusion :What have you learned from the study?(この研究を通じて得られたものは？)\n",
    "- Title, Abstract, Conclusion\n",
    "\n",
    "参考サイト：Wikipedia - IMRAD (https://ja.wikipedia.org/wiki/IMRAD)"
   ]
  },
  {
   "cell_type": "markdown",
   "metadata": {
    "slideshow": {
     "slide_type": "subslide"
    }
   },
   "source": [
    "# 研究のサイクル\n",
    "  \n",
    "  \n",
    "1. 先行研究の調査\n",
    "2. データの収集\n",
    "3. プログラムの開発・修正\n",
    "4. プログラムの実行\n",
    "5. 考察"
   ]
  },
  {
   "cell_type": "markdown",
   "metadata": {
    "slideshow": {
     "slide_type": "skip"
    }
   },
   "source": [
    "# 開発環境構築"
   ]
  },
  {
   "cell_type": "markdown",
   "metadata": {
    "slideshow": {
     "slide_type": "slide"
    }
   },
   "source": [
    "# プログラミングの準備\n",
    "  \n",
    "- プログラミング言語選定\n",
    "    - python, julia, C++, Rust\n",
    "- 環境選定 (python)\n",
    "    - anaconda\n",
    "    - jupyter notebook\n",
    "    - jupyter lab\n",
    "    - visual studio code\n",
    "    - visual studio"
   ]
  },
  {
   "cell_type": "markdown",
   "metadata": {
    "slideshow": {
     "slide_type": "slide"
    }
   },
   "source": [
    "# pythonインストール\n",
    "## Anaconda\n",
    "  \n",
    "- 複数環境の使い分けが可能（データ分析、機械学習、etc.）\n",
    "- jupyter notebook，jupyter labが使える\n",
    "- Visual Studio Codeがインストールできる"
   ]
  },
  {
   "cell_type": "markdown",
   "metadata": {
    "slideshow": {
     "slide_type": "slide"
    }
   },
   "source": [
    "# ライブラリインストール\n",
    "## pip install\n",
    "- pythonライブラリの標準インストーラー\n",
    "\n",
    "## conda install\n",
    "- anacondaでのインストーラー\n",
    "\n",
    "### 参考サイト\n",
    "- python Package Index (https://pypi.org/)  \n",
    "- Anaconda Cloud (https://anaconda.org/anaconda/repo)"
   ]
  },
  {
   "cell_type": "markdown",
   "metadata": {
    "slideshow": {
     "slide_type": "subslide"
    }
   },
   "source": [
    "# 開発環境\n",
    "\n",
    "\n",
    "## Jupyter Notebook\n",
    "- 小規模なプログラムを手軽に実行できる\n",
    "\n",
    "\n",
    "## Jupyter Lab\n",
    "- Jupyter Notebookの高機能版\n",
    "- ただし、matplotlibはinlineしか使えない\n",
    "- CSVファイルや画像ファイルを直接開いてみることができる\n",
    "  \n",
    "※ 小さいプログラムやテストプログラムを作るときに利用する。"
   ]
  },
  {
   "cell_type": "markdown",
   "metadata": {
    "slideshow": {
     "slide_type": "subslide"
    }
   },
   "source": [
    "## Visual Studio Code\n",
    "- Anacondaからインストール可能（Anaconda用extensionも自動的にインストールされる）\n",
    "\n",
    "## Visual Studio\n",
    "- VS2017以降でpythonが利用可能になった\n",
    "\n",
    "※ 大規模プログラムや継続的に開発を行う利用する。"
   ]
  },
  {
   "cell_type": "markdown",
   "metadata": {
    "slideshow": {
     "slide_type": "skip"
    }
   },
   "source": [
    "# 良いプログラムを書くために"
   ]
  },
  {
   "cell_type": "markdown",
   "metadata": {
    "slideshow": {
     "slide_type": "slide"
    }
   },
   "source": [
    "# 良いプログラムとは\n",
    "- きちんと動く (安全性)\n",
    "- 変更のしやすさ（柔軟性＝疎結合＋高凝集）\n",
    "- 読みやすさ（可読性）\n",
    "- 速度\n",
    "\n",
    "※ 可読性が高ければ、その他の変更がしやすい"
   ]
  },
  {
   "cell_type": "markdown",
   "metadata": {
    "slideshow": {
     "slide_type": "notes"
    }
   },
   "source": [
    "プログラムの種類によって重視すべき点は変わるが、どれかを軽視してはいけない"
   ]
  },
  {
   "cell_type": "markdown",
   "metadata": {
    "slideshow": {
     "slide_type": "subslide"
    }
   },
   "source": [
    "# 安全性確保\n",
    "- assertを使おう\n",
    "    - 関数の引数に関する条件を入り口でチェック\n",
    "    - 入力範囲、入力タイプ(配列の次元、数値、文字、ブール値)"
   ]
  },
  {
   "cell_type": "markdown",
   "metadata": {
    "slideshow": {
     "slide_type": "subslide"
    }
   },
   "source": [
    "# 変更を容易にする\n",
    "- 変数のスコープはなるべく小さく\n",
    "    - パブリック変数よりプライベート変数\n",
    "    - プライベート変数よりローカル変数\n",
    "- 関数の引数は必要最小限に"
   ]
  },
  {
   "cell_type": "markdown",
   "metadata": {
    "slideshow": {
     "slide_type": "subslide"
    }
   },
   "source": [
    "# 可読性を上げる\n",
    "- 変数や関数等の名前に情報を追加する\n",
    "- コメントすべきことを知る\n",
    "- 巨大な式を分割する\n",
    "\n",
    "参考文献：リーダブルコード (https://www.oreilly.co.jp/books/9784873115658/)"
   ]
  },
  {
   "cell_type": "markdown",
   "metadata": {
    "slideshow": {
     "slide_type": "subslide"
    }
   },
   "source": [
    "# リファクタリング\n",
    "- 処理内容を変えずに、品質（可読性、柔軟性）の向上する変更は進んでやろう\n",
    "    - 速度については必要になってから考えよう\n",
    "- バージョン管理システムを利用しよう"
   ]
  },
  {
   "cell_type": "markdown",
   "metadata": {
    "slideshow": {
     "slide_type": "slide"
    }
   },
   "source": [
    "# 高速化を意識しよう\n",
    "- numpy, scipy (CおよびFortranにより処理が最適化されている)\n",
    "- pandas (データ分析・前処理向き)\n",
    "- cython (汎用的用途での高速化)\n",
    "- multiprocessing (CPUの複数コアを有効活用)\n",
    "- gpuを使ったライブラリ (cupy, gpu向けtensorflow, etc.)\n",
    "<br><br>\n",
    "※ 最後の2つは、CPUやGPUを有効活用するための前処理や後処理での負荷が大きいため場合によって遅くなることがある"
   ]
  },
  {
   "cell_type": "markdown",
   "metadata": {
    "slideshow": {
     "slide_type": "slide"
    }
   },
   "source": [
    "# numpyを使おう\n",
    "- 連結、結合、分割、削除\n",
    "- スライス\n",
    "- 多次元配列演算\n",
    "- 線形代数演算"
   ]
  },
  {
   "cell_type": "code",
   "execution_count": 1,
   "metadata": {
    "slideshow": {
     "slide_type": "subslide"
    }
   },
   "outputs": [
    {
     "name": "stdout",
     "output_type": "stream",
     "text": [
      "[[ 1  2  3]\n",
      " [ 4  5  6]\n",
      " [ 7  8  9]\n",
      " [ 0 11 12]]\n",
      "[[ 1  2  3  7  8  9]\n",
      " [ 4  5  6  0 11 12]]\n"
     ]
    }
   ],
   "source": [
    "import numpy as np\n",
    "\n",
    "a1 = np.array([[1, 2, 3],\n",
    "               [4, 5, 6]])\n",
    "a2 = np.array([[7, 8, 9],\n",
    "               [0, 11, 12]])\n",
    "\n",
    "print(np.concatenate([a1, a2], axis=0))\n",
    "\n",
    "print(np.concatenate([a1, a2], axis=1))"
   ]
  },
  {
   "cell_type": "code",
   "execution_count": 2,
   "metadata": {
    "scrolled": true,
    "slideshow": {
     "slide_type": "subslide"
    }
   },
   "outputs": [
    {
     "name": "stdout",
     "output_type": "stream",
     "text": [
      "[      0       1       2 ... 9999997 9999998 9999999]\n",
      "49999995000000\n",
      "loop process_time：3.373105525970459\n"
     ]
    }
   ],
   "source": [
    "import numpy as np\n",
    "import time\n",
    "\n",
    "start = time.time()\n",
    "\n",
    "a = np.array(range(10000000))\n",
    "# longのままだとoverflowが発生するため\n",
    "a = a.astype(np.longlong)\n",
    "print(a)\n",
    "sum = 0\n",
    "for i in a:\n",
    "    sum += i\n",
    "print(sum)\n",
    "\n",
    "end = time.time()\n",
    "print(f\"loop process_time：{end-start}\")"
   ]
  },
  {
   "cell_type": "code",
   "execution_count": 3,
   "metadata": {},
   "outputs": [
    {
     "name": "stdout",
     "output_type": "stream",
     "text": [
      "49999995000000\n",
      "numpy process_time：0.009972095489501953\n"
     ]
    }
   ],
   "source": [
    "start = time.time()\n",
    "print(a.sum())\n",
    "end = time.time()\n",
    "print(f\"numpy process_time：{end-start}\")"
   ]
  },
  {
   "cell_type": "markdown",
   "metadata": {
    "slideshow": {
     "slide_type": "slide"
    }
   },
   "source": [
    "# matplotlibを使おう\n",
    "- グラフ表示（折れ線、散布図、ヒストグラム）\n",
    "- 画像表示\n",
    "- 他にもグラフライブラリとしてBokeh、Seaborn等がある"
   ]
  },
  {
   "cell_type": "code",
   "execution_count": 5,
   "metadata": {
    "slideshow": {
     "slide_type": "subslide"
    }
   },
   "outputs": [
    {
     "data": {
      "text/plain": [
       "(array([  3.,   6.,  46., 129., 214., 267., 206.,  94.,  27.,   8.]),\n",
       " array([12.74472998, 19.70593985, 26.66714972, 33.62835959, 40.58956946,\n",
       "        47.55077933, 54.5119892 , 61.47319907, 68.43440895, 75.39561882,\n",
       "        82.35682869]),\n",
       " <a list of 10 Patch objects>)"
      ]
     },
     "execution_count": 5,
     "metadata": {},
     "output_type": "execute_result"
    },
    {
     "data": {
      "image/png": "[encoded data removed]",
      "text/plain": [
       "<Figure size 864x216 with 3 Axes>"
      ]
     },
     "metadata": {
      "needs_background": "light"
     },
     "output_type": "display_data"
    }
   ],
   "source": [
    "import matplotlib.pyplot as plt\n",
    "fig, (ax1, ax2, ax3) = plt.subplots(nrows=1, ncols=3, figsize=(12,3))\n",
    "\n",
    "t = np.linspace(-np.pi, np.pi, 1000)\n",
    "x1 = np.sin(t)\n",
    "ax1.plot(t, x1)\n",
    "\n",
    "x = np.random.rand(100)\n",
    "y = np.random.rand(100)\n",
    "ax2.scatter(x,y)\n",
    "\n",
    "\n",
    "x = np.random.normal(50, 10, 1000)\n",
    "ax3.hist(x)"
   ]
  },
  {
   "cell_type": "markdown",
   "metadata": {
    "slideshow": {
     "slide_type": "skip"
    }
   },
   "source": [
    "# バージョン管理"
   ]
  },
  {
   "cell_type": "markdown",
   "metadata": {
    "slideshow": {
     "slide_type": "slide"
    }
   },
   "source": [
    "# バージョン管理システムとは\n",
    "- ソースコードの履歴管理を行う\n",
    "- ファイルの作成日時、変更日時、変更点などの履歴を保管する\n",
    "- 複数の人間が同一ファイルを編集した際に発生する競合を解決する仕組みを提供する"
   ]
  },
  {
   "cell_type": "markdown",
   "metadata": {
    "slideshow": {
     "slide_type": "slide"
    }
   },
   "source": [
    "# バージョン管理ツールをなぜ使うのか\n",
    "- 以前の状態に戻せる\n",
    "- 変更履歴を調査する\n",
    "- 変更理由を知る\n",
    "- 同一ファイルへの複数人の編集を管理する\n",
    "- リファクタリングへの抵抗が減る"
   ]
  },
  {
   "cell_type": "markdown",
   "metadata": {
    "slideshow": {
     "slide_type": "subslide"
    }
   },
   "source": [
    "# バージョン管理システム\n",
    "- バージョン管理システムには分散型と集中型の2つのタイプがある\n",
    "- 分散型はローカルでのコミットが可能なため使いやすい\n",
    "- 分散型にはGitとMercurial、集中型にはSubversionがある\n",
    "- Gitを使おう"
   ]
  },
  {
   "cell_type": "markdown",
   "metadata": {
    "slideshow": {
     "slide_type": "skip"
    }
   },
   "source": [
    "# TIPS"
   ]
  },
  {
   "cell_type": "markdown",
   "metadata": {
    "slideshow": {
     "slide_type": "slide"
    }
   },
   "source": [
    "# 研究しよう\n",
    "\n",
    "- アイデアをプログラムで実装する力をつける\n",
    "- 良いアイデアを得るためには時間がかかる\n",
    "- 長期的には常に問題を考えつづける\n",
    "- 短期的にはメリハリをつけていろんなことをやってみる"
   ]
  }
 ],
 "metadata": {
  "celltoolbar": "Slideshow",
  "kernelspec": {
   "display_name": "presen",
   "language": "python",
   "name": "presentation"
  },
  "language_info": {
   "codemirror_mode": {
    "name": "ipython",
    "version": 3
   },
   "file_extension": ".py",
   "mimetype": "text/x-python",
   "name": "python",
   "nbconvert_exporter": "python",
   "pygments_lexer": "ipython3",
   "version": "3.6.8"
  }
 },
 "nbformat": 4,
 "nbformat_minor": 2
}
